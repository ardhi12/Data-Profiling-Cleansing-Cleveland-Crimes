{
 "metadata": {
  "language_info": {
   "codemirror_mode": {
    "name": "ipython",
    "version": 3
   },
   "file_extension": ".py",
   "mimetype": "text/x-python",
   "name": "python",
   "nbconvert_exporter": "python",
   "pygments_lexer": "ipython3",
   "version": "3.8.7"
  },
  "orig_nbformat": 2,
  "kernelspec": {
   "name": "python387jvsc74a57bd05c0372ed38b372118c24adb00d45654d76c8d10261533c5724e3f5fc1d75489a",
   "display_name": "Python 3.8.7 64-bit"
  }
 },
 "nbformat": 4,
 "nbformat_minor": 2,
 "cells": [
  {
   "cell_type": "code",
   "execution_count": 148,
   "metadata": {},
   "outputs": [
    {
     "output_type": "stream",
     "name": "stdout",
     "text": [
      "+----+--------+-------+----------------+----------------+---------+---------+---------------------------+---------+---------------+---------------------+---------------------+-------+\n|_c0 |_c1     |_c2    |_c3             |_c4             |_c5      |_c6      |_c7                        |_c8      |_c9            |_c10                 |_c11                 |_c12   |\n+----+--------+-------+----------------+----------------+---------+---------+---------------------------+---------+---------------+---------------------+---------------------+-------+\n|null|Crime.ID|Month  |Reported.by     |Falls.within    |Longitude|Latitude |Location                   |LSOA.code|LSOA.name      |Crime.type           |Last.outcome.category|Context|\n|1   |null    |2016-04|Cleveland Police|Cleveland Police|-1.238154|54.710767|On or near Greyfriers Court|E01011954|Hartlepool 001A|Anti-social behaviour|null                 |NA     |\n|2   |null    |2016-04|Cleveland Police|Cleveland Police|-1.239958|54.710607|On or near Marshall Close  |E01011954|Hartlepool 001A|Anti-social behaviour|null                 |NA     |\n|3   |null    |2016-04|Cleveland Police|Cleveland Police|-1.239958|54.710607|On or near Marshall Close  |E01011954|Hartlepool 001A|Anti-social behaviour|null                 |NA     |\n|4   |null    |2016-04|Cleveland Police|Cleveland Police|-1.238644|54.709494|On or near Whin Meadows    |E01011954|Hartlepool 001A|Anti-social behaviour|null                 |NA     |\n+----+--------+-------+----------------+----------------+---------+---------+---------------------------+---------+---------------+---------------------+---------------------+-------+\nonly showing top 5 rows\n\n"
     ]
    }
   ],
   "source": [
    "import pandas as pd\n",
    "from pyspark.sql import SparkSession\n",
    "from pyspark.context import SparkContext\n",
    "from pyspark.sql.functions import *\n",
    "from pyspark.sql.types import *\n",
    "from datetime import date, timedelta, datetime\n",
    "import time\n",
    "import random\n",
    "\n",
    "# create app\n",
    "sc = SparkSession.builder.appName(\"cleansingcrimes\")\\\n",
    ".config (\"spark.sql.shuffle.partitions\", \"50\")\\\n",
    ".config(\"spark.driver.maxResultSize\",\"5g\")\\\n",
    ".config (\"spark.sql.execution.arrow.enabled\", \"true\")\\\n",
    ".getOrCreate()\n",
    "\n",
    "# Extract Json file\n",
    "df = sc.read.csv('dataset/crimes.csv') \n",
    "df.show(5, truncate=False)"
   ]
  },
  {
   "cell_type": "code",
   "execution_count": 149,
   "metadata": {},
   "outputs": [
    {
     "output_type": "stream",
     "name": "stdout",
     "text": [
      "+---+--------+-------+----------------+----------------+---------+---------+---------------------------+---------+---------------+---------------------+---------------------+-------+\n|No |Crime.ID|Month  |Reported.by     |Falls.within    |Longitude|Latitude |Location                   |LSOA.code|LSOA.name      |Crime.type           |Last.outcome.category|Context|\n+---+--------+-------+----------------+----------------+---------+---------+---------------------------+---------+---------------+---------------------+---------------------+-------+\n|1  |null    |2016-04|Cleveland Police|Cleveland Police|-1.238154|54.710767|On or near Greyfriers Court|E01011954|Hartlepool 001A|Anti-social behaviour|null                 |NA     |\n|2  |null    |2016-04|Cleveland Police|Cleveland Police|-1.239958|54.710607|On or near Marshall Close  |E01011954|Hartlepool 001A|Anti-social behaviour|null                 |NA     |\n|3  |null    |2016-04|Cleveland Police|Cleveland Police|-1.239958|54.710607|On or near Marshall Close  |E01011954|Hartlepool 001A|Anti-social behaviour|null                 |NA     |\n|4  |null    |2016-04|Cleveland Police|Cleveland Police|-1.238644|54.709494|On or near Whin Meadows    |E01011954|Hartlepool 001A|Anti-social behaviour|null                 |NA     |\n|5  |null    |2016-04|Cleveland Police|Cleveland Police|-1.238644|54.709494|On or near Whin Meadows    |E01011954|Hartlepool 001A|Anti-social behaviour|null                 |NA     |\n+---+--------+-------+----------------+----------------+---------+---------+---------------------------+---------+---------------+---------------------+---------------------+-------+\nonly showing top 5 rows\n\n"
     ]
    }
   ],
   "source": [
    "# Jadikan row pertama sebagai Kolom\n",
    "df = df.na.fill(value=\"No\",subset=[\"_c0\"])\n",
    "row_list = df.select('*').first()\n",
    "list_column = [x for x in row_list]\n",
    "df = df.toDF(*list_column)\n",
    "# drop row pertama\n",
    "df = df.filter(df.No != \"No\")\n",
    "df.show(5, truncate=False)"
   ]
  },
  {
   "cell_type": "code",
   "execution_count": 150,
   "metadata": {
    "tags": []
   },
   "outputs": [
    {
     "output_type": "stream",
     "name": "stdout",
     "text": [
      "+---+----------------------------------------------------------------+-------+----------------+----------------+---------+---------+-----------------------+---------+---------------+-------------------------+---------------------------------------------+-------+\n|No |Crime.ID                                                        |Month  |Reported.by     |Falls.within    |Longitude|Latitude |Location               |LSOA.code|LSOA.name      |Crime.type               |Last.outcome.category                        |Context|\n+---+----------------------------------------------------------------+-------+----------------+----------------+---------+---------+-----------------------+---------+---------------+-------------------------+---------------------------------------------+-------+\n|12 |cc5ee4533c7729c9248930bbc76a0ad9900deb26594b249c931ecd6b090ed4df|2016-04|Cleveland Police|Cleveland Police|-1.235724|54.71041 |On or near Dobson Place|E01011954|Hartlepool 001A|Criminal damage and arson|Investigation complete; no suspect identified|NA     |\n|13 |9eeec7a2199b865ff2c89c382415126bf4414816248fb766c69aa1666c4ee090|2016-04|Cleveland Police|Cleveland Police|-1.235724|54.71041 |On or near Dobson Place|E01011954|Hartlepool 001A|Criminal damage and arson|Unable to prosecute suspect                  |NA     |\n|14 |8d88a2fd8d4a64b42687fe9ec02b5188d689af9cb3220498ea328770e2bfb673|2016-04|Cleveland Police|Cleveland Police|-1.236212|54.713352|On or near Hutone Place|E01011954|Hartlepool 001A|Criminal damage and arson|Investigation complete; no suspect identified|NA     |\n+---+----------------------------------------------------------------+-------+----------------+----------------+---------+---------+-----------------------+---------+---------------+-------------------------+---------------------------------------------+-------+\nonly showing top 3 rows\n\n"
     ]
    },
    {
     "output_type": "execute_result",
     "data": {
      "text/plain": [
       "0"
      ]
     },
     "metadata": {},
     "execution_count": 150
    }
   ],
   "source": [
    "# drop Missing Value Crime.ID\n",
    "df = df.na.drop(subset=[\"`Crime.ID`\"])\n",
    "df.show(3,truncate=False)\n",
    "df.filter(col(\"`Crime.ID`\").isNull()).count()"
   ]
  },
  {
   "cell_type": "code",
   "execution_count": 151,
   "metadata": {
    "tags": []
   },
   "outputs": [
    {
     "output_type": "stream",
     "name": "stdout",
     "text": [
      "+---+----------------------------------------------------------------+-------+----------------+----------------+---------+--------+-----------------------+---------+---------------+-------------------------+---------------------------------------------+-------+\n|No |Crime.ID                                                        |Month  |Reported.by     |Falls.within    |Longitude|Latitude|Location               |LSOA.code|LSOA.name      |Crime.type               |Last.outcome.category                        |Context|\n+---+----------------------------------------------------------------+-------+----------------+----------------+---------+--------+-----------------------+---------+---------------+-------------------------+---------------------------------------------+-------+\n|12 |cc5ee4533c7729c9248930bbc76a0ad9900deb26594b249c931ecd6b090ed4df|2016-04|Cleveland Police|Cleveland Police|-1.235724|54.71041|On or near Dobson Place|E01011954|Hartlepool 001A|Criminal damage and arson|Investigation complete; no suspect identified|0      |\n|13 |9eeec7a2199b865ff2c89c382415126bf4414816248fb766c69aa1666c4ee090|2016-04|Cleveland Police|Cleveland Police|-1.235724|54.71041|On or near Dobson Place|E01011954|Hartlepool 001A|Criminal damage and arson|Unable to prosecute suspect                  |0      |\n+---+----------------------------------------------------------------+-------+----------------+----------------+---------+--------+-----------------------+---------+---------------+-------------------------+---------------------------------------------+-------+\nonly showing top 2 rows\n\n"
     ]
    }
   ],
   "source": [
    "# Replace value \"NA\" to 0 from Context column\n",
    "df = df.withColumn(\"Context\", when(df[\"Context\"] == \"NA\", 0).otherwise(df[\"Context\"]))\n",
    "df.show(2, truncate=False)"
   ]
  },
  {
   "cell_type": "code",
   "execution_count": 152,
   "metadata": {},
   "outputs": [
    {
     "output_type": "stream",
     "name": "stdout",
     "text": [
      "root\n",
      " |-- No: string (nullable = false)\n",
      " |-- Crime.ID: string (nullable = true)\n",
      " |-- Month: string (nullable = true)\n",
      " |-- Reported.by: string (nullable = true)\n",
      " |-- Falls.within: string (nullable = true)\n",
      " |-- Longitude: string (nullable = true)\n",
      " |-- Latitude: string (nullable = true)\n",
      " |-- Location: string (nullable = true)\n",
      " |-- LSOA.code: string (nullable = true)\n",
      " |-- LSOA.name: string (nullable = true)\n",
      " |-- Crime.type: string (nullable = true)\n",
      " |-- Last.outcome.category: string (nullable = true)\n",
      " |-- Context: string (nullable = true)\n",
      "\n",
      "root\n",
      " |-- No: integer (nullable = true)\n",
      " |-- Crime.ID: string (nullable = true)\n",
      " |-- Month: string (nullable = true)\n",
      " |-- Reported.by: string (nullable = true)\n",
      " |-- Falls.within: string (nullable = true)\n",
      " |-- Longitude: string (nullable = true)\n",
      " |-- Latitude: string (nullable = true)\n",
      " |-- Location: string (nullable = true)\n",
      " |-- LSOA.code: string (nullable = true)\n",
      " |-- LSOA.name: string (nullable = true)\n",
      " |-- Crime.type: string (nullable = true)\n",
      " |-- Last.outcome.category: string (nullable = true)\n",
      " |-- Context: integer (nullable = true)\n",
      "\n"
     ]
    }
   ],
   "source": [
    "# Ubah tipe data pada kolom No dan Context dari String menjadi Integer\n",
    "df.printSchema()\n",
    "for c in df.columns:    \n",
    "    int_column = [\"No\", \"Context\"]\n",
    "    if c in int_column:\n",
    "        df = df.withColumn(c, df[c].cast(\"integer\"))\n",
    "df.printSchema()"
   ]
  },
  {
   "cell_type": "code",
   "execution_count": null,
   "metadata": {},
   "outputs": [],
   "source": []
  }
 ]
}