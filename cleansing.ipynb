{
 "metadata": {
  "language_info": {
   "codemirror_mode": {
    "name": "ipython",
    "version": 3
   },
   "file_extension": ".py",
   "mimetype": "text/x-python",
   "name": "python",
   "nbconvert_exporter": "python",
   "pygments_lexer": "ipython3",
   "version": "3.8.7"
  },
  "orig_nbformat": 2,
  "kernelspec": {
   "name": "python387jvsc74a57bd05c0372ed38b372118c24adb00d45654d76c8d10261533c5724e3f5fc1d75489a",
   "display_name": "Python 3.8.7 64-bit"
  }
 },
 "nbformat": 4,
 "nbformat_minor": 2,
 "cells": [
  {
   "cell_type": "code",
   "execution_count": 8,
   "metadata": {},
   "outputs": [
    {
     "output_type": "stream",
     "name": "stdout",
     "text": [
      "+----+--------+-------+----------------+----------------+---------+---------+--------------------+---------+---------------+--------------------+--------------------+-------+\n| _c0|     _c1|    _c2|             _c3|             _c4|      _c5|      _c6|                 _c7|      _c8|            _c9|                _c10|                _c11|   _c12|\n+----+--------+-------+----------------+----------------+---------+---------+--------------------+---------+---------------+--------------------+--------------------+-------+\n|null|Crime.ID|  Month|     Reported.by|    Falls.within|Longitude| Latitude|            Location|LSOA.code|      LSOA.name|          Crime.type|Last.outcome.cate...|Context|\n|   1|    null|2016-04|Cleveland Police|Cleveland Police|-1.238154|54.710767|On or near Greyfr...|E01011954|Hartlepool 001A|Anti-social behav...|                null|     NA|\n|   2|    null|2016-04|Cleveland Police|Cleveland Police|-1.239958|54.710607|On or near Marsha...|E01011954|Hartlepool 001A|Anti-social behav...|                null|     NA|\n|   3|    null|2016-04|Cleveland Police|Cleveland Police|-1.239958|54.710607|On or near Marsha...|E01011954|Hartlepool 001A|Anti-social behav...|                null|     NA|\n|   4|    null|2016-04|Cleveland Police|Cleveland Police|-1.238644|54.709494|On or near Whin M...|E01011954|Hartlepool 001A|Anti-social behav...|                null|     NA|\n+----+--------+-------+----------------+----------------+---------+---------+--------------------+---------+---------------+--------------------+--------------------+-------+\nonly showing top 5 rows\n\n"
     ]
    }
   ],
   "source": [
    "import pandas as pd\n",
    "from pyspark.sql import SparkSession\n",
    "from pyspark.context import SparkContext\n",
    "from pyspark.sql.functions import *\n",
    "from pyspark.sql.types import *\n",
    "from datetime import date, timedelta, datetime\n",
    "import time\n",
    "\n",
    "# create app\n",
    "sc = SparkSession.builder.appName(\"cleansingcrimes\")\\\n",
    ".config (\"spark.sql.shuffle.partitions\", \"50\")\\\n",
    ".config(\"spark.driver.maxResultSize\",\"5g\")\\\n",
    ".config (\"spark.sql.execution.arrow.enabled\", \"true\")\\\n",
    ".getOrCreate()\n",
    "\n",
    "# Extract Json file\n",
    "df = sc.read.csv('dataset/crimes.csv') \n",
    "df.show(5)"
   ]
  },
  {
   "cell_type": "code",
   "execution_count": 9,
   "metadata": {},
   "outputs": [
    {
     "output_type": "stream",
     "name": "stdout",
     "text": [
      "+---+--------+-------+----------------+----------------+---------+---------+--------------------+---------+---------------+--------------------+---------------------+-------+\n| No|Crime.ID|  Month|     Reported.by|    Falls.within|Longitude| Latitude|            Location|LSOA.code|      LSOA.name|          Crime.type|Last.outcome.category|Context|\n+---+--------+-------+----------------+----------------+---------+---------+--------------------+---------+---------------+--------------------+---------------------+-------+\n|  1|    null|2016-04|Cleveland Police|Cleveland Police|-1.238154|54.710767|On or near Greyfr...|E01011954|Hartlepool 001A|Anti-social behav...|                 null|     NA|\n|  2|    null|2016-04|Cleveland Police|Cleveland Police|-1.239958|54.710607|On or near Marsha...|E01011954|Hartlepool 001A|Anti-social behav...|                 null|     NA|\n|  3|    null|2016-04|Cleveland Police|Cleveland Police|-1.239958|54.710607|On or near Marsha...|E01011954|Hartlepool 001A|Anti-social behav...|                 null|     NA|\n|  4|    null|2016-04|Cleveland Police|Cleveland Police|-1.238644|54.709494|On or near Whin M...|E01011954|Hartlepool 001A|Anti-social behav...|                 null|     NA|\n|  5|    null|2016-04|Cleveland Police|Cleveland Police|-1.238644|54.709494|On or near Whin M...|E01011954|Hartlepool 001A|Anti-social behav...|                 null|     NA|\n+---+--------+-------+----------------+----------------+---------+---------+--------------------+---------+---------------+--------------------+---------------------+-------+\nonly showing top 5 rows\n\n"
     ]
    }
   ],
   "source": [
    "# rename column\n",
    "df = df.na.fill(value=\"No\",subset=[\"_c0\"])\n",
    "row_list = df.select('*').collect()\n",
    "list_column = [ x for x in row_list[0]]\n",
    "df = df.toDF(*list_column)\n",
    "# drop first row\n",
    "df = df.filter(df.No != \"No\")\n",
    "df.show(5)"
   ]
  },
  {
   "cell_type": "code",
   "execution_count": null,
   "metadata": {},
   "outputs": [],
   "source": []
  }
 ]
}