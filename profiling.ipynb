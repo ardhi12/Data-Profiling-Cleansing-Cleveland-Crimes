{
 "metadata": {
  "language_info": {
   "codemirror_mode": {
    "name": "ipython",
    "version": 3
   },
   "file_extension": ".py",
   "mimetype": "text/x-python",
   "name": "python",
   "nbconvert_exporter": "python",
   "pygments_lexer": "ipython3",
   "version": "3.8.7"
  },
  "orig_nbformat": 2,
  "kernelspec": {
   "name": "python387jvsc74a57bd05c0372ed38b372118c24adb00d45654d76c8d10261533c5724e3f5fc1d75489a",
   "display_name": "Python 3.8.7 64-bit"
  }
 },
 "nbformat": 4,
 "nbformat_minor": 2,
 "cells": [
  {
   "cell_type": "code",
   "execution_count": 6,
   "metadata": {},
   "outputs": [
    {
     "output_type": "display_data",
     "data": {
      "text/plain": "   Unnamed: 0 Crime.ID    Month       Reported.by      Falls.within  \\\n0           1      NaN  2016-04  Cleveland Police  Cleveland Police   \n1           2      NaN  2016-04  Cleveland Police  Cleveland Police   \n2           3      NaN  2016-04  Cleveland Police  Cleveland Police   \n3           4      NaN  2016-04  Cleveland Police  Cleveland Police   \n4           5      NaN  2016-04  Cleveland Police  Cleveland Police   \n5           6      NaN  2016-04  Cleveland Police  Cleveland Police   \n6           7      NaN  2016-04  Cleveland Police  Cleveland Police   \n7           8      NaN  2016-04  Cleveland Police  Cleveland Police   \n8           9      NaN  2016-04  Cleveland Police  Cleveland Police   \n9          10      NaN  2016-04  Cleveland Police  Cleveland Police   \n\n   Longitude   Latitude                     Location  LSOA.code  \\\n0  -1.238154  54.710767  On or near Greyfriers Court  E01011954   \n1  -1.239958  54.710607    On or near Marshall Close  E01011954   \n2  -1.239958  54.710607    On or near Marshall Close  E01011954   \n3  -1.238644  54.709494      On or near Whin Meadows  E01011954   \n4  -1.238644  54.709494      On or near Whin Meadows  E01011954   \n5  -1.235446  54.711190   On or near King Oswy Drive  E01011954   \n6  -1.237805  54.711196   On or near King Oswy Shops  E01011954   \n7  -1.240734  54.713937    On or near Speeding Drive  E01011954   \n8  -1.236070  54.710197      On or near Tempest Road  E01011954   \n9  -1.241634  54.711454   On or near Miller Crescent  E01011954   \n\n         LSOA.name             Crime.type Last.outcome.category  Context  \n0  Hartlepool 001A  Anti-social behaviour                   NaN      NaN  \n1  Hartlepool 001A  Anti-social behaviour                   NaN      NaN  \n2  Hartlepool 001A  Anti-social behaviour                   NaN      NaN  \n3  Hartlepool 001A  Anti-social behaviour                   NaN      NaN  \n4  Hartlepool 001A  Anti-social behaviour                   NaN      NaN  \n5  Hartlepool 001A  Anti-social behaviour                   NaN      NaN  \n6  Hartlepool 001A  Anti-social behaviour                   NaN      NaN  \n7  Hartlepool 001A  Anti-social behaviour                   NaN      NaN  \n8  Hartlepool 001A  Anti-social behaviour                   NaN      NaN  \n9  Hartlepool 001A  Anti-social behaviour                   NaN      NaN  ",
      "text/html": "<div>\n<style scoped>\n    .dataframe tbody tr th:only-of-type {\n        vertical-align: middle;\n    }\n\n    .dataframe tbody tr th {\n        vertical-align: top;\n    }\n\n    .dataframe thead th {\n        text-align: right;\n    }\n</style>\n<table border=\"1\" class=\"dataframe\">\n  <thead>\n    <tr style=\"text-align: right;\">\n      <th></th>\n      <th>Unnamed: 0</th>\n      <th>Crime.ID</th>\n      <th>Month</th>\n      <th>Reported.by</th>\n      <th>Falls.within</th>\n      <th>Longitude</th>\n      <th>Latitude</th>\n      <th>Location</th>\n      <th>LSOA.code</th>\n      <th>LSOA.name</th>\n      <th>Crime.type</th>\n      <th>Last.outcome.category</th>\n      <th>Context</th>\n    </tr>\n  </thead>\n  <tbody>\n    <tr>\n      <th>0</th>\n      <td>1</td>\n      <td>NaN</td>\n      <td>2016-04</td>\n      <td>Cleveland Police</td>\n      <td>Cleveland Police</td>\n      <td>-1.238154</td>\n      <td>54.710767</td>\n      <td>On or near Greyfriers Court</td>\n      <td>E01011954</td>\n      <td>Hartlepool 001A</td>\n      <td>Anti-social behaviour</td>\n      <td>NaN</td>\n      <td>NaN</td>\n    </tr>\n    <tr>\n      <th>1</th>\n      <td>2</td>\n      <td>NaN</td>\n      <td>2016-04</td>\n      <td>Cleveland Police</td>\n      <td>Cleveland Police</td>\n      <td>-1.239958</td>\n      <td>54.710607</td>\n      <td>On or near Marshall Close</td>\n      <td>E01011954</td>\n      <td>Hartlepool 001A</td>\n      <td>Anti-social behaviour</td>\n      <td>NaN</td>\n      <td>NaN</td>\n    </tr>\n    <tr>\n      <th>2</th>\n      <td>3</td>\n      <td>NaN</td>\n      <td>2016-04</td>\n      <td>Cleveland Police</td>\n      <td>Cleveland Police</td>\n      <td>-1.239958</td>\n      <td>54.710607</td>\n      <td>On or near Marshall Close</td>\n      <td>E01011954</td>\n      <td>Hartlepool 001A</td>\n      <td>Anti-social behaviour</td>\n      <td>NaN</td>\n      <td>NaN</td>\n    </tr>\n    <tr>\n      <th>3</th>\n      <td>4</td>\n      <td>NaN</td>\n      <td>2016-04</td>\n      <td>Cleveland Police</td>\n      <td>Cleveland Police</td>\n      <td>-1.238644</td>\n      <td>54.709494</td>\n      <td>On or near Whin Meadows</td>\n      <td>E01011954</td>\n      <td>Hartlepool 001A</td>\n      <td>Anti-social behaviour</td>\n      <td>NaN</td>\n      <td>NaN</td>\n    </tr>\n    <tr>\n      <th>4</th>\n      <td>5</td>\n      <td>NaN</td>\n      <td>2016-04</td>\n      <td>Cleveland Police</td>\n      <td>Cleveland Police</td>\n      <td>-1.238644</td>\n      <td>54.709494</td>\n      <td>On or near Whin Meadows</td>\n      <td>E01011954</td>\n      <td>Hartlepool 001A</td>\n      <td>Anti-social behaviour</td>\n      <td>NaN</td>\n      <td>NaN</td>\n    </tr>\n    <tr>\n      <th>5</th>\n      <td>6</td>\n      <td>NaN</td>\n      <td>2016-04</td>\n      <td>Cleveland Police</td>\n      <td>Cleveland Police</td>\n      <td>-1.235446</td>\n      <td>54.711190</td>\n      <td>On or near King Oswy Drive</td>\n      <td>E01011954</td>\n      <td>Hartlepool 001A</td>\n      <td>Anti-social behaviour</td>\n      <td>NaN</td>\n      <td>NaN</td>\n    </tr>\n    <tr>\n      <th>6</th>\n      <td>7</td>\n      <td>NaN</td>\n      <td>2016-04</td>\n      <td>Cleveland Police</td>\n      <td>Cleveland Police</td>\n      <td>-1.237805</td>\n      <td>54.711196</td>\n      <td>On or near King Oswy Shops</td>\n      <td>E01011954</td>\n      <td>Hartlepool 001A</td>\n      <td>Anti-social behaviour</td>\n      <td>NaN</td>\n      <td>NaN</td>\n    </tr>\n    <tr>\n      <th>7</th>\n      <td>8</td>\n      <td>NaN</td>\n      <td>2016-04</td>\n      <td>Cleveland Police</td>\n      <td>Cleveland Police</td>\n      <td>-1.240734</td>\n      <td>54.713937</td>\n      <td>On or near Speeding Drive</td>\n      <td>E01011954</td>\n      <td>Hartlepool 001A</td>\n      <td>Anti-social behaviour</td>\n      <td>NaN</td>\n      <td>NaN</td>\n    </tr>\n    <tr>\n      <th>8</th>\n      <td>9</td>\n      <td>NaN</td>\n      <td>2016-04</td>\n      <td>Cleveland Police</td>\n      <td>Cleveland Police</td>\n      <td>-1.236070</td>\n      <td>54.710197</td>\n      <td>On or near Tempest Road</td>\n      <td>E01011954</td>\n      <td>Hartlepool 001A</td>\n      <td>Anti-social behaviour</td>\n      <td>NaN</td>\n      <td>NaN</td>\n    </tr>\n    <tr>\n      <th>9</th>\n      <td>10</td>\n      <td>NaN</td>\n      <td>2016-04</td>\n      <td>Cleveland Police</td>\n      <td>Cleveland Police</td>\n      <td>-1.241634</td>\n      <td>54.711454</td>\n      <td>On or near Miller Crescent</td>\n      <td>E01011954</td>\n      <td>Hartlepool 001A</td>\n      <td>Anti-social behaviour</td>\n      <td>NaN</td>\n      <td>NaN</td>\n    </tr>\n  </tbody>\n</table>\n</div>"
     },
     "metadata": {}
    }
   ],
   "source": [
    "import pandas as pd\n",
    "from pandas_profiling import ProfileReport\n",
    "from IPython.display import display\n",
    "\n",
    "df = pd.read_csv('dataset/crimes.csv')\n",
    "display(df.head(10))\n"
   ]
  },
  {
   "cell_type": "code",
   "execution_count": 7,
   "metadata": {},
   "outputs": [
    {
     "output_type": "stream",
     "name": "stderr",
     "text": [
      "Summarize dataset:  92%|█████████▏| 24/26 [00:36<00:02,  1.43s/it, Get messages/warnings]C:\\Users\\User\\AppData\\Local\\Programs\\Python\\Python38\\lib\\site-packages\\pandas_profiling\\model\\correlations.py:192: RuntimeWarning: invalid value encountered in greater_equal\n",
      "  bool_index = abs(correlation_matrix.values) >= threshold\n",
      "Summarize dataset: 100%|██████████| 26/26 [00:36<00:00,  1.42s/it, Completed]\n",
      "Generate report structure: 100%|██████████| 1/1 [00:07<00:00,  7.97s/it]\n"
     ]
    },
    {
     "output_type": "display_data",
     "data": {
      "text/plain": "VBox(children=(Tab(children=(Tab(children=(GridBox(children=(VBox(children=(GridspecLayout(children=(HTML(valu…",
      "application/vnd.jupyter.widget-view+json": {
       "version_major": 2,
       "version_minor": 0,
       "model_id": "030304760ed740e9914d783e29e0dc93"
      }
     },
     "metadata": {}
    }
   ],
   "source": [
    "profile = ProfileReport(df, title=\"Pandas Profiling Report\")\n",
    "profile.to_widgets()"
   ]
  }
 ]
}